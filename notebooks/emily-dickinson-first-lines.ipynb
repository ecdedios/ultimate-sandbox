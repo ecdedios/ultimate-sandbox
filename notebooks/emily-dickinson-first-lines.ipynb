{
 "cells": [
  {
   "cell_type": "code",
   "execution_count": 1,
   "id": "featured-roman",
   "metadata": {},
   "outputs": [
    {
     "name": "stderr",
     "output_type": "stream",
     "text": [
      "[nltk_data] Downloading package stopwords to\n",
      "[nltk_data]     C:\\Users\\Dd\\AppData\\Roaming\\nltk_data...\n",
      "[nltk_data]   Package stopwords is already up-to-date!\n",
      "[nltk_data] Downloading package wordnet to\n",
      "[nltk_data]     C:\\Users\\Dd\\AppData\\Roaming\\nltk_data...\n",
      "[nltk_data]   Package wordnet is already up-to-date!\n"
     ]
    }
   ],
   "source": [
    "# setting the random seed for reproducibility\n",
    "import random\n",
    "random.seed(493)\n",
    "\n",
    "# for manipulating dataframes\n",
    "import pandas as pd\n",
    "import numpy as np\n",
    "\n",
    "# natural language processing: n-gram ranking\n",
    "import re\n",
    "import unicodedata\n",
    "import nltk\n",
    "nltk.download('stopwords')\n",
    "nltk.download('wordnet')\n",
    "from nltk.corpus import stopwords\n",
    "\n",
    "# to print out all the outputs\n",
    "from IPython.core.interactiveshell import InteractiveShell\n",
    "InteractiveShell.ast_node_interactivity = \"all\"\n",
    "\n",
    "# set display options\n",
    "pd.set_option('display.max_columns', None)\n",
    "pd.set_option('display.max_rows', None)\n",
    "pd.set_option('display.max_colwidth', None)"
   ]
  },
  {
   "cell_type": "code",
   "execution_count": 2,
   "id": "possible-rough",
   "metadata": {},
   "outputs": [],
   "source": [
    "lines = open('../data/in/emily_dickinson_first_lines.txt', 'r')\n",
    "\n",
    "line_list = []\n",
    "for line in lines:\n",
    "    line_list.append(line)"
   ]
  },
  {
   "cell_type": "code",
   "execution_count": 3,
   "id": "pleasant-limit",
   "metadata": {},
   "outputs": [
    {
     "data": {
      "text/plain": [
       "['A bird came down the walk:\\n',\n",
       " 'A charm invests a face\\n',\n",
       " \"A clock stopped â€” not the mantel's;\\n\",\n",
       " 'A death-blow is a life-blow to some\\n',\n",
       " 'A deed knocks first at thought,\\n',\n",
       " 'A dew sufficed itself\\n',\n",
       " 'A door just opened on a street â€”\\n',\n",
       " 'A drop fell on the apple tree,\\n',\n",
       " 'A face devoid of love or grace,\\n',\n",
       " 'A lady red upon the hill\\n']"
      ]
     },
     "execution_count": 3,
     "metadata": {},
     "output_type": "execute_result"
    }
   ],
   "source": [
    "line_list[:10]"
   ]
  },
  {
   "cell_type": "code",
   "execution_count": 4,
   "id": "illegal-showcase",
   "metadata": {},
   "outputs": [],
   "source": [
    "lines = open('../data/in/emily_dickinson_first_lines.txt', 'r')\n",
    "\n",
    "line_list = []\n",
    "for line in lines:\n",
    "    line_list.append(line.strip('\\n'))"
   ]
  },
  {
   "cell_type": "code",
   "execution_count": 5,
   "id": "wireless-moore",
   "metadata": {},
   "outputs": [
    {
     "data": {
      "text/plain": [
       "['A bird came down the walk:',\n",
       " 'A charm invests a face',\n",
       " \"A clock stopped â€” not the mantel's;\",\n",
       " 'A death-blow is a life-blow to some',\n",
       " 'A deed knocks first at thought,',\n",
       " 'A dew sufficed itself',\n",
       " 'A door just opened on a street â€”',\n",
       " 'A drop fell on the apple tree,',\n",
       " 'A face devoid of love or grace,',\n",
       " 'A lady red upon the hill']"
      ]
     },
     "execution_count": 5,
     "metadata": {},
     "output_type": "execute_result"
    }
   ],
   "source": [
    "line_list[:10]"
   ]
  },
  {
   "cell_type": "code",
   "execution_count": 6,
   "id": "earned-forward",
   "metadata": {},
   "outputs": [],
   "source": [
    "ADDITIONAL_STOPWORDS = ['â€”', 'ignore']\n",
    "\n",
    "def clean(sentence):\n",
    "    \"\"\"\n",
    "    Takes a string and returns a list of cleaned words. All the words that\n",
    "    are not designated as a stop word is then lemmatized after\n",
    "    encoding and basic regex parsing are performed.\n",
    "\n",
    "            Parameters:\n",
    "                    sentence (str): A list of words\n",
    "\n",
    "            Returns:\n",
    "                    word_list (list): A list of cleaned words\n",
    "    \"\"\"\n",
    "    wnl = nltk.stem.WordNetLemmatizer()\n",
    "    stopwords = nltk.corpus.stopwords.words('english') + ADDITIONAL_STOPWORDS\n",
    "    sentence = (unicodedata.normalize('NFKD', sentence)\n",
    "        .encode('ascii', 'ignore')\n",
    "        .decode('utf-8', 'ignore')\n",
    "        .lower())\n",
    "    words = re.sub(r'[^\\w\\s]', '', sentence).split()\n",
    "    word_list = [wnl.lemmatize(word) for word in words if word not in stopwords]\n",
    "    return word_list"
   ]
  },
  {
   "cell_type": "code",
   "execution_count": 7,
   "id": "electoral-transmission",
   "metadata": {},
   "outputs": [
    {
     "data": {
      "text/plain": [
       "['quick', 'brown', 'fox', 'jump', 'lazy', 'dog']"
      ]
     },
     "execution_count": 7,
     "metadata": {},
     "output_type": "execute_result"
    }
   ],
   "source": [
    "clean('The quick brown fox jumps â€” over the lazy dog. Ignore me.')"
   ]
  },
  {
   "cell_type": "code",
   "execution_count": 8,
   "id": "enabling-rebate",
   "metadata": {},
   "outputs": [],
   "source": [
    "def get_words(line_list):\n",
    "    \"\"\"\n",
    "    Takes a dataframe and a column and returns a list of\n",
    "    cleaned words that is returned by clean().\n",
    "\n",
    "            Parameters:\n",
    "                    df (dataframe): A pandas dataframe\n",
    "                    column (series): A pandas series\n",
    "\n",
    "            Returns:\n",
    "                    word_list (list): A list of cleaned words\n",
    "    \"\"\"\n",
    "    return clean(''.join(str(line_list)))"
   ]
  },
  {
   "cell_type": "code",
   "execution_count": 9,
   "id": "worldwide-function",
   "metadata": {},
   "outputs": [],
   "source": [
    "all_words = get_words(line_list)"
   ]
  },
  {
   "cell_type": "code",
   "execution_count": 10,
   "id": "binary-baptist",
   "metadata": {},
   "outputs": [
    {
     "data": {
      "text/plain": [
       "list"
      ]
     },
     "execution_count": 10,
     "metadata": {},
     "output_type": "execute_result"
    }
   ],
   "source": [
    "type(all_words)"
   ]
  },
  {
   "cell_type": "code",
   "execution_count": 11,
   "id": "thermal-scotland",
   "metadata": {},
   "outputs": [],
   "source": [
    "df = pd.DataFrame(pd.Series(all_words))"
   ]
  },
  {
   "cell_type": "code",
   "execution_count": 12,
   "id": "complex-commissioner",
   "metadata": {},
   "outputs": [
    {
     "data": {
      "text/plain": [
       "pandas.core.frame.DataFrame"
      ]
     },
     "execution_count": 12,
     "metadata": {},
     "output_type": "execute_result"
    }
   ],
   "source": [
    "type(df)"
   ]
  },
  {
   "cell_type": "code",
   "execution_count": 13,
   "id": "sized-negative",
   "metadata": {},
   "outputs": [
    {
     "data": {
      "text/html": [
       "<div>\n",
       "<style scoped>\n",
       "    .dataframe tbody tr th:only-of-type {\n",
       "        vertical-align: middle;\n",
       "    }\n",
       "\n",
       "    .dataframe tbody tr th {\n",
       "        vertical-align: top;\n",
       "    }\n",
       "\n",
       "    .dataframe thead th {\n",
       "        text-align: right;\n",
       "    }\n",
       "</style>\n",
       "<table border=\"1\" class=\"dataframe\">\n",
       "  <thead>\n",
       "    <tr style=\"text-align: right;\">\n",
       "      <th></th>\n",
       "      <th>0</th>\n",
       "    </tr>\n",
       "  </thead>\n",
       "  <tbody>\n",
       "    <tr>\n",
       "      <th>0</th>\n",
       "      <td>bird</td>\n",
       "    </tr>\n",
       "    <tr>\n",
       "      <th>1</th>\n",
       "      <td>came</td>\n",
       "    </tr>\n",
       "    <tr>\n",
       "      <th>2</th>\n",
       "      <td>walk</td>\n",
       "    </tr>\n",
       "    <tr>\n",
       "      <th>3</th>\n",
       "      <td>charm</td>\n",
       "    </tr>\n",
       "    <tr>\n",
       "      <th>4</th>\n",
       "      <td>invests</td>\n",
       "    </tr>\n",
       "  </tbody>\n",
       "</table>\n",
       "</div>"
      ],
      "text/plain": [
       "         0\n",
       "0     bird\n",
       "1     came\n",
       "2     walk\n",
       "3    charm\n",
       "4  invests"
      ]
     },
     "execution_count": 13,
     "metadata": {},
     "output_type": "execute_result"
    }
   ],
   "source": [
    "df.head()"
   ]
  },
  {
   "cell_type": "code",
   "execution_count": 14,
   "id": "fifty-mineral",
   "metadata": {},
   "outputs": [],
   "source": [
    "df.columns=['word']"
   ]
  },
  {
   "cell_type": "code",
   "execution_count": 15,
   "id": "judicial-presence",
   "metadata": {},
   "outputs": [
    {
     "data": {
      "text/html": [
       "<div>\n",
       "<style scoped>\n",
       "    .dataframe tbody tr th:only-of-type {\n",
       "        vertical-align: middle;\n",
       "    }\n",
       "\n",
       "    .dataframe tbody tr th {\n",
       "        vertical-align: top;\n",
       "    }\n",
       "\n",
       "    .dataframe thead th {\n",
       "        text-align: right;\n",
       "    }\n",
       "</style>\n",
       "<table border=\"1\" class=\"dataframe\">\n",
       "  <thead>\n",
       "    <tr style=\"text-align: right;\">\n",
       "      <th></th>\n",
       "      <th>word</th>\n",
       "    </tr>\n",
       "  </thead>\n",
       "  <tbody>\n",
       "    <tr>\n",
       "      <th>0</th>\n",
       "      <td>bird</td>\n",
       "    </tr>\n",
       "    <tr>\n",
       "      <th>1</th>\n",
       "      <td>came</td>\n",
       "    </tr>\n",
       "    <tr>\n",
       "      <th>2</th>\n",
       "      <td>walk</td>\n",
       "    </tr>\n",
       "    <tr>\n",
       "      <th>3</th>\n",
       "      <td>charm</td>\n",
       "    </tr>\n",
       "    <tr>\n",
       "      <th>4</th>\n",
       "      <td>invests</td>\n",
       "    </tr>\n",
       "  </tbody>\n",
       "</table>\n",
       "</div>"
      ],
      "text/plain": [
       "      word\n",
       "0     bird\n",
       "1     came\n",
       "2     walk\n",
       "3    charm\n",
       "4  invests"
      ]
     },
     "execution_count": 15,
     "metadata": {},
     "output_type": "execute_result"
    }
   ],
   "source": [
    "df.head()"
   ]
  },
  {
   "cell_type": "markdown",
   "id": "standing-wonder",
   "metadata": {},
   "source": [
    "### _What are the most frequently occuring words?_"
   ]
  },
  {
   "cell_type": "code",
   "execution_count": 16,
   "id": "editorial-possibility",
   "metadata": {},
   "outputs": [
    {
     "data": {
      "text/plain": [
       "little     17\n",
       "like       16\n",
       "one        13\n",
       "day        11\n",
       "know       10\n",
       "went       10\n",
       "heart      10\n",
       "night      10\n",
       "life        9\n",
       "time        9\n",
       "death       9\n",
       "never       9\n",
       "summer      9\n",
       "heaven      8\n",
       "come        8\n",
       "bird        8\n",
       "year        8\n",
       "died        7\n",
       "face        7\n",
       "thought     7\n",
       "Name: word, dtype: int64"
      ]
     },
     "execution_count": 16,
     "metadata": {},
     "output_type": "execute_result"
    }
   ],
   "source": [
    "df.word.value_counts()[:20]"
   ]
  },
  {
   "cell_type": "code",
   "execution_count": 17,
   "id": "institutional-audio",
   "metadata": {},
   "outputs": [],
   "source": [
    "def get_bigrams(words):\n",
    "    \"\"\"\n",
    "    Takes in a list of words and returns a series of\n",
    "    bigrams with value counts.\n",
    "    \"\"\"\n",
    "    return (pd.Series(nltk.ngrams(words, 2)).value_counts())[:20]\n",
    "\n",
    "def get_trigrams(words):\n",
    "    \"\"\"\n",
    "    Takes in a list of words and returns a series of\n",
    "    trigrams with value counts.\n",
    "    \"\"\"\n",
    "    return (pd.Series(nltk.ngrams(words, 3)).value_counts())[:20]\n",
    "\n",
    "def get_qualgrams(words):\n",
    "    \"\"\"\n",
    "    Takes in a list of words and returns a series of\n",
    "    qualgrams with value counts.\n",
    "    \"\"\"\n",
    "    return (pd.Series(nltk.ngrams(words, 4)).value_counts())[:20]\n",
    "\n",
    "def get_ngrams(words):\n",
    "    \"\"\"\n",
    "    Takes in a dataframe with column name and generates a\n",
    "    dataframe of unigrams, bigrams, trigrams, and qualgrams.\n",
    "    \"\"\"\n",
    "    return get_bigrams(words).to_frame().reset_index().rename(columns={'index':'bigram','0':'count'}), \\\n",
    "           get_trigrams(words).to_frame().reset_index().rename(columns={'index':'trigram','0':'count'}), \\\n",
    "           get_qualgrams(words).to_frame().reset_index().rename(columns={'index':'qualgram','0':'count'})"
   ]
  },
  {
   "cell_type": "markdown",
   "id": "piano-asset",
   "metadata": {},
   "source": [
    "### _Do the first lines vary greatly?_"
   ]
  },
  {
   "cell_type": "code",
   "execution_count": 18,
   "id": "moderate-sunset",
   "metadata": {},
   "outputs": [
    {
     "data": {
      "text/plain": [
       "(               bigram  0\n",
       " 0     (little, heart)  2\n",
       " 1    (except, heaven)  2\n",
       " 2         (see, face)  2\n",
       " 3       (summer, day)  2\n",
       " 4       (every, bird)  2\n",
       " 5     (dropped, like)  2\n",
       " 6       (never, know)  2\n",
       " 7      (little, boat)  2\n",
       " 8         (much, joy)  2\n",
       " 9       (wild, night)  2\n",
       " 10       (many, time)  2\n",
       " 11      (never, lost)  2\n",
       " 12       (never, saw)  2\n",
       " 13      (lip, divine)  1\n",
       " 14         (sea, one)  1\n",
       " 15       (honey, rat)  1\n",
       " 16   (started, early)  1\n",
       " 17  (world, occasion)  1\n",
       " 18        (god, gave)  1\n",
       " 19         (got, eye)  1,\n",
       "                               trigram  0\n",
       " 0   (little, implement, presentiment)  1\n",
       " 1                (face, lived, dread)  1\n",
       " 2                   (made, man, long)  1\n",
       " 3             (sunrise, little, maid)  1\n",
       " 4               (repeat, summer, day)  1\n",
       " 5               (poor, little, heart)  1\n",
       " 6                   (like, star, say)  1\n",
       " 7               (come, back, dropped)  1\n",
       " 8                (summer, bird, fate)  1\n",
       " 9                (didst, break, read)  1\n",
       " 10               (bliss, abyss, cant)  1\n",
       " 11                 (lose, take, part)  1\n",
       " 12            (gently, toss, whether)  1\n",
       " 13              (letter, world, land)  1\n",
       " 14             (loose, girdle, doubt)  1\n",
       " 15              (pompless, life, pas)  1\n",
       " 16              (whether, bark, went)  1\n",
       " 17               (follows, soft, sun)  1\n",
       " 18            (summer, strives, know)  1\n",
       " 19                (moss, alter, hill)  1,\n",
       "                                 qualgram  0\n",
       " 0   (belshazzar, letter, bereaved, went)  1\n",
       " 1                (one, day, series, one)  1\n",
       " 2         (learn, transport, pain, lose)  1\n",
       " 3             (stand, grave, world, see)  1\n",
       " 4     (groove, bustle, house, butterfly)  1\n",
       " 5      (wandered, year, given, marriage)  1\n",
       " 6         (heart, portrait, daily, face)  1\n",
       " 7            (cease, bloom, dear, every)  1\n",
       " 8              (stopped, im, nobody, im)  1\n",
       " 9            (attache, unto, book, good)  1\n",
       " 10       (cause, coming, fall, immortal)  1\n",
       " 11       (first, thought, dew, sufficed)  1\n",
       " 12      (morning, within, reach, cannot)  1\n",
       " 13           (till, argued, narrow, put)  1\n",
       " 14            (chin, gold, morn, meeker)  1\n",
       " 15           (little, heart, ate, drank)  1\n",
       " 16        (society, soul, always, stand)  1\n",
       " 17        (guinea, golden, hungry, year)  1\n",
       " 18        (summer, went, little, little)  1\n",
       " 19        (thorn, shady, friend, torrid)  1)"
      ]
     },
     "execution_count": 18,
     "metadata": {},
     "output_type": "execute_result"
    }
   ],
   "source": [
    "get_ngrams(all_words)"
   ]
  }
 ],
 "metadata": {
  "kernelspec": {
   "display_name": "Python 3",
   "language": "python",
   "name": "python3"
  },
  "language_info": {
   "codemirror_mode": {
    "name": "ipython",
    "version": 3
   },
   "file_extension": ".py",
   "mimetype": "text/x-python",
   "name": "python",
   "nbconvert_exporter": "python",
   "pygments_lexer": "ipython3",
   "version": "3.7.9"
  }
 },
 "nbformat": 4,
 "nbformat_minor": 5
}
