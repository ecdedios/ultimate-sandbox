{
 "cells": [
  {
   "cell_type": "code",
   "execution_count": 21,
   "id": "bigger-myrtle",
   "metadata": {},
   "outputs": [],
   "source": [
    "import pandas as pd"
   ]
  },
  {
   "cell_type": "code",
   "execution_count": 22,
   "id": "located-phenomenon",
   "metadata": {},
   "outputs": [],
   "source": [
    "df1 = pd.read_csv('../data/in/MOCK_DATA1.csv')\n",
    "df2 = pd.read_csv('../data/in/MOCK_DATA2.csv')\n",
    "df3 = pd.read_csv('../data/in/MOCK_DATA3.csv')\n",
    "df4 = pd.read_csv('../data/in/MOCK_DATA4.csv')\n",
    "df5 = pd.read_csv('../data/in/MOCK_DATA5.csv')\n",
    "df6 = pd.read_csv('../data/in/MOCK_DATA6.csv')\n",
    "df7 = pd.read_csv('../data/in/MOCK_DATA7.csv')"
   ]
  },
  {
   "cell_type": "code",
   "execution_count": 23,
   "id": "developed-detective",
   "metadata": {},
   "outputs": [],
   "source": [
    "df = pd.concat([df1, df2, df3, df4, df5, df6, df7])\n",
    "df = pd.concat([df, df1, df2, df3, df4, df5, df6, df7])\n",
    "df = pd.concat([df, df1, df2, df3, df4, df5, df6, df7])\n",
    "df = pd.concat([df, df1, df2, df3, df4, df5, df6, df7])\n",
    "df = pd.concat([df, df1, df2, df3, df4, df5, df6, df7])\n",
    "df = pd.concat([df, df1, df2, df3, df4, df5, df6, df7])\n",
    "df = pd.concat([df, df1, df2, df3, df4, df5, df6, df7])\n",
    "df = pd.concat([df, df1, df2, df3, df4, df5, df6, df7])\n",
    "df = pd.concat([df, df1, df2, df3, df4, df5, df6, df7])\n",
    "df = pd.concat([df, df1, df2, df3, df4, df5, df6, df7])\n",
    "df = pd.concat([df, df1, df2, df3, df4, df5, df6, df7])\n",
    "df = pd.concat([df, df1, df2, df3, df4, df5, df6, df7])\n",
    "df = pd.concat([df, df1, df2, df3, df4, df5, df6, df7])\n",
    "df = pd.concat([df, df1, df2, df3, df4, df5, df6, df7])\n",
    "df = pd.concat([df, df1, df2, df3, df4, df5, df6, df7])\n",
    "df = pd.concat([df, df1, df2, df3, df4, df5, df6, df7])\n",
    "df = pd.concat([df, df1, df2, df3, df4, df5, df6, df7])\n",
    "df = pd.concat([df, df1, df2, df3, df4, df5, df6, df7])\n",
    "df = pd.concat([df, df1, df2, df3, df4, df5, df6, df7])\n",
    "df = pd.concat([df, df1, df2, df3, df4, df5, df6, df7])\n",
    "df = pd.concat([df, df1, df2, df3, df4, df5, df6, df7])\n",
    "df = pd.concat([df, df1, df2, df3, df4, df5, df6, df7])\n",
    "df = pd.concat([df, df1, df2, df3, df4, df5, df6, df7])\n",
    "df = pd.concat([df, df1, df2, df3, df4, df5, df6, df7])\n",
    "df = pd.concat([df, df1, df2, df3, df4, df5, df6, df7])\n",
    "df = pd.concat([df, df1, df2, df3, df4, df5, df6, df7])\n",
    "df = pd.concat([df, df1, df2, df3, df4, df5, df6, df7])\n",
    "df = pd.concat([df, df1, df2, df3, df4, df5, df6, df7])\n",
    "df = pd.concat([df, df1, df2, df3, df4, df5, df6, df7])\n",
    "df = pd.concat([df, df1, df2, df3, df4, df5, df6, df7])\n",
    "df = pd.concat([df, df1, df2, df3, df4, df5, df6, df7])\n",
    "df = pd.concat([df, df1, df2, df3, df4, df5, df6, df7])\n",
    "df = pd.concat([df, df1, df2, df3, df4, df5, df6, df7])\n",
    "df = pd.concat([df, df1, df2, df3, df4, df5, df6, df7])\n",
    "df = pd.concat([df, df1, df2, df3, df4, df5, df6, df7])\n",
    "df = pd.concat([df, df1, df2, df3, df4, df5, df6, df7])\n",
    "df = pd.concat([df, df1, df2, df3, df4, df5, df6, df7])\n",
    "df = pd.concat([df, df1, df2, df3, df4, df5, df6, df7])\n",
    "df = pd.concat([df, df1, df2, df3, df4, df5, df6, df7])\n",
    "df = pd.concat([df, df1, df2, df3, df4, df5, df6, df7])\n",
    "df = pd.concat([df, df1, df2, df3, df4, df5, df6, df7])\n",
    "df = pd.concat([df, df1, df2, df3, df4, df5, df6, df7])\n",
    "df = pd.concat([df, df1, df2, df3, df4, df5, df6, df7])\n",
    "df = pd.concat([df, df1, df2, df3, df4, df5, df6, df7])\n",
    "df = pd.concat([df, df1, df2, df3, df4, df5, df6, df7])\n",
    "df = pd.concat([df, df1, df2, df3, df4, df5, df6, df7])\n",
    "df = pd.concat([df, df1, df2, df3, df4, df5, df6, df7])\n",
    "df = pd.concat([df, df1, df2, df3, df4, df5, df6, df7])\n",
    "df = pd.concat([df, df1, df2, df3, df4, df5, df6, df7])\n",
    "df = pd.concat([df, df1, df2, df3, df4, df5, df6, df7])\n",
    "df = pd.concat([df, df1, df2, df3, df4, df5, df6, df7])\n",
    "df = pd.concat([df, df1, df2, df3, df4, df5, df6, df7])\n",
    "df = pd.concat([df, df1, df2, df3, df4, df5, df6, df7])\n",
    "df = pd.concat([df, df1, df2, df3, df4, df5, df6, df7])\n",
    "df = pd.concat([df, df1, df2, df3, df4, df5, df6, df7])\n",
    "df = pd.concat([df, df1, df2, df3, df4, df5, df6, df7])"
   ]
  },
  {
   "cell_type": "code",
   "execution_count": 24,
   "id": "together-framing",
   "metadata": {},
   "outputs": [
    {
     "data": {
      "text/plain": [
       "(392000, 6)"
      ]
     },
     "execution_count": 24,
     "metadata": {},
     "output_type": "execute_result"
    }
   ],
   "source": [
    "df.shape"
   ]
  },
  {
   "cell_type": "code",
   "execution_count": 25,
   "id": "legitimate-thong",
   "metadata": {},
   "outputs": [
    {
     "data": {
      "text/html": [
       "<div>\n",
       "<style scoped>\n",
       "    .dataframe tbody tr th:only-of-type {\n",
       "        vertical-align: middle;\n",
       "    }\n",
       "\n",
       "    .dataframe tbody tr th {\n",
       "        vertical-align: top;\n",
       "    }\n",
       "\n",
       "    .dataframe thead th {\n",
       "        text-align: right;\n",
       "    }\n",
       "</style>\n",
       "<table border=\"1\" class=\"dataframe\">\n",
       "  <thead>\n",
       "    <tr style=\"text-align: right;\">\n",
       "      <th></th>\n",
       "      <th>id</th>\n",
       "      <th>first_name</th>\n",
       "      <th>last_name</th>\n",
       "      <th>email</th>\n",
       "      <th>gender</th>\n",
       "      <th>ip_address</th>\n",
       "    </tr>\n",
       "  </thead>\n",
       "  <tbody>\n",
       "    <tr>\n",
       "      <th>0</th>\n",
       "      <td>1</td>\n",
       "      <td>Kimberly</td>\n",
       "      <td>McCague</td>\n",
       "      <td>kmccague0@instagram.com</td>\n",
       "      <td>Genderqueer</td>\n",
       "      <td>200.118.138.166</td>\n",
       "    </tr>\n",
       "    <tr>\n",
       "      <th>1</th>\n",
       "      <td>2</td>\n",
       "      <td>Eba</td>\n",
       "      <td>Sparkes</td>\n",
       "      <td>esparkes1@biglobe.ne.jp</td>\n",
       "      <td>Female</td>\n",
       "      <td>63.159.159.220</td>\n",
       "    </tr>\n",
       "    <tr>\n",
       "      <th>2</th>\n",
       "      <td>3</td>\n",
       "      <td>Ermanno</td>\n",
       "      <td>Gadeaux</td>\n",
       "      <td>egadeaux2@tiny.cc</td>\n",
       "      <td>Genderfluid</td>\n",
       "      <td>181.176.74.240</td>\n",
       "    </tr>\n",
       "    <tr>\n",
       "      <th>3</th>\n",
       "      <td>4</td>\n",
       "      <td>Karrie</td>\n",
       "      <td>Hayselden</td>\n",
       "      <td>khayselden3@jigsy.com</td>\n",
       "      <td>Male</td>\n",
       "      <td>219.200.227.117</td>\n",
       "    </tr>\n",
       "    <tr>\n",
       "      <th>4</th>\n",
       "      <td>5</td>\n",
       "      <td>Minerva</td>\n",
       "      <td>Allicock</td>\n",
       "      <td>mallicock4@miitbeian.gov.cn</td>\n",
       "      <td>Genderfluid</td>\n",
       "      <td>173.67.154.62</td>\n",
       "    </tr>\n",
       "  </tbody>\n",
       "</table>\n",
       "</div>"
      ],
      "text/plain": [
       "   id first_name  last_name                        email       gender  \\\n",
       "0   1   Kimberly    McCague      kmccague0@instagram.com  Genderqueer   \n",
       "1   2        Eba    Sparkes      esparkes1@biglobe.ne.jp       Female   \n",
       "2   3    Ermanno    Gadeaux            egadeaux2@tiny.cc  Genderfluid   \n",
       "3   4     Karrie  Hayselden        khayselden3@jigsy.com         Male   \n",
       "4   5    Minerva   Allicock  mallicock4@miitbeian.gov.cn  Genderfluid   \n",
       "\n",
       "        ip_address  \n",
       "0  200.118.138.166  \n",
       "1   63.159.159.220  \n",
       "2   181.176.74.240  \n",
       "3  219.200.227.117  \n",
       "4    173.67.154.62  "
      ]
     },
     "execution_count": 25,
     "metadata": {},
     "output_type": "execute_result"
    }
   ],
   "source": [
    "df.head()"
   ]
  },
  {
   "cell_type": "code",
   "execution_count": 26,
   "id": "altered-technology",
   "metadata": {},
   "outputs": [
    {
     "name": "stdout",
     "output_type": "stream",
     "text": [
      "123 ms ± 5.87 ms per loop (mean ± std. dev. of 7 runs, 10 loops each)\n"
     ]
    }
   ],
   "source": [
    "%%timeit\n",
    "df['full_name'] = df.first_name.astype(str) + ' ' + df.last_name.astype(str)"
   ]
  },
  {
   "cell_type": "code",
   "execution_count": 28,
   "id": "economic-richards",
   "metadata": {},
   "outputs": [
    {
     "name": "stdout",
     "output_type": "stream",
     "text": [
      "4.51 s ± 1.18 s per loop (mean ± std. dev. of 7 runs, 1 loop each)\n"
     ]
    }
   ],
   "source": [
    "%%timeit\n",
    "df[['first_name','last_name']].apply(lambda x : '{}{}'.format(x[0],x[1]), axis=1)"
   ]
  },
  {
   "cell_type": "code",
   "execution_count": 29,
   "id": "bottom-seeking",
   "metadata": {},
   "outputs": [],
   "source": [
    "df.to_csv('../data/out/MOCK_DATA_3X.csv', index=False)"
   ]
  },
  {
   "cell_type": "code",
   "execution_count": null,
   "id": "experimental-answer",
   "metadata": {},
   "outputs": [],
   "source": []
  }
 ],
 "metadata": {
  "kernelspec": {
   "display_name": "Python 3",
   "language": "python",
   "name": "python3"
  },
  "language_info": {
   "codemirror_mode": {
    "name": "ipython",
    "version": 3
   },
   "file_extension": ".py",
   "mimetype": "text/x-python",
   "name": "python",
   "nbconvert_exporter": "python",
   "pygments_lexer": "ipython3",
   "version": "3.8.7"
  }
 },
 "nbformat": 4,
 "nbformat_minor": 5
}
